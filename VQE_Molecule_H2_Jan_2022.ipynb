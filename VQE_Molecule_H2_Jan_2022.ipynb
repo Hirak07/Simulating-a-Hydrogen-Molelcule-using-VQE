{
 "cells": [
  {
   "cell_type": "markdown",
   "id": "4b0d3602-c685-4406-adff-b36e7a6a2911",
   "metadata": {},
   "source": [
    "<font size = \"6\"> Quantum Chemistry Simulations : $H_2$"
   ]
  },
  {
   "cell_type": "markdown",
   "id": "cf7bcd7c-fae9-4d0b-be30-134b91a1f591",
   "metadata": {},
   "source": [
    "<font size = \"5\"> Solving for the ground state of $H_2$ molecule using Variational Quantum EigenSolver \n",
    "<font size = \"3\"> <div align=\"left\">  *Using statevector simulator*"
   ]
  },
  {
   "cell_type": "code",
   "execution_count": 1,
   "id": "7b056909-0e92-48bf-a4e6-321fa827db37",
   "metadata": {},
   "outputs": [],
   "source": [
    "import warnings\n",
    "warnings.simplefilter('ignore', DeprecationWarning)"
   ]
  },
  {
   "cell_type": "code",
   "execution_count": 2,
   "id": "ba616b39-f2e6-4a54-8532-f0c1dfe6f6b8",
   "metadata": {},
   "outputs": [
    {
     "name": "stderr",
     "output_type": "stream",
     "text": [
      "<frozen importlib._bootstrap>:219: RuntimeWarning: scipy._lib.messagestream.MessageStream size changed, may indicate binary incompatibility. Expected 56 from C header, got 64 from PyObject\n"
     ]
    }
   ],
   "source": [
    "#importing basic libraries\n",
    "import numpy as np\n",
    "import matplotlib.pyplot as plt\n",
    "\n",
    "\n",
    "# Importing standard Qiskit libraries\n",
    "from qiskit import qiskit\n",
    "from qiskit.tools.jupyter import *\n",
    "from qiskit.visualization import *\n",
    "from ibm_quantum_widgets import *\n",
    "from qiskit import IBMQ\n",
    "from qiskit import QuantumCircuit, transpile, Aer\n",
    "\n",
    "\n",
    "# Basic VQE Calculation\n",
    "# Importing basic libraries and standard Qiskit libraries.\n",
    "from qiskit.providers.aer import StatevectorSimulator, QasmSimulator\n",
    "from qiskit.utils import QuantumInstance\n",
    "from qiskit.providers.ibmq import least_busy\n",
    "from qiskit.circuit.library import TwoLocal\n",
    "from qiskit.utils.mitigation import CompleteMeasFitter\n",
    "from qiskit.providers.aer.noise import NoiseModel\n",
    "\n",
    "\n",
    "#Importing Qiskit Librarires for VQE\n",
    "from qiskit.algorithms import NumPyMinimumEigensolver, VQE\n",
    "from qiskit.algorithms.optimizers import COBYLA, SLSQP, L_BFGS_B, SPSA\n",
    "\n",
    "\n",
    "#Importing libraries for PauliSum\n",
    "from qiskit.opflow.primitive_ops import PauliSumOp\n",
    "from qiskit.quantum_info import SparsePauliOp\n",
    "\n",
    "\n",
    "#Import Qiskit Nature Libararies\n",
    "#from qiskit_nature.transformers import ActiveSpaceTransformer #ActiveSpaceTransformer Missing\n",
    "from qiskit_nature.settings import settings\n",
    "from qiskit_nature.drivers import UnitsType, Molecule\n",
    "from qiskit_nature.drivers.second_quantization import PySCFDriver\n",
    "from qiskit_nature.problems.second_quantization.electronic import ElectronicStructureProblem\n",
    "from qiskit_nature.converters.second_quantization import QubitConverter \n",
    "from qiskit_nature.mappers.second_quantization import JordanWignerMapper, ParityMapper, BravyiKitaevMapper\n",
    "from qiskit_nature.algorithms import VQEUCCFactory, GroundStateEigensolver #Deprecation_Warning \n",
    "from qiskit_nature.circuit.library import HartreeFock, UCCSD, PUCCD\n",
    "settings.dict_aux_operators =True"
   ]
  },
  {
   "cell_type": "code",
   "execution_count": 3,
   "id": "c88d36d0-7e8f-4393-9b80-90d8c5f36f17",
   "metadata": {},
   "outputs": [],
   "source": [
    "# Loading your IBM Quantum account(s)\n",
    "provider = IBMQ.load_account()"
   ]
  },
  {
   "cell_type": "code",
   "execution_count": 4,
   "id": "85d6a62f-ced6-485a-9c93-3894cf727eff",
   "metadata": {},
   "outputs": [
    {
     "name": "stdout",
     "output_type": "stream",
     "text": [
      "Molecule:\n",
      "\tMultiplicity: 1\n",
      "\tCharge: 0\n",
      "\tUnit: Angstrom\n",
      "\tGeometry:\n",
      "\t\tH\t[0.0, 0.0, 0.0]\n",
      "\t\tH\t[0.0, 0.0, 0.735]\n"
     ]
    }
   ],
   "source": [
    "\"\"\"\n",
    "Setup the molecular data for simulation. Note that this step requires an external program (this example uses the PySCF program) for HF and integral calculations\n",
    "\n",
    "Some typical input parameters for quantum chemistry simulation : \n",
    "\n",
    "1. Cartesian coordinates with atomic labels (Positions of nuclei)\n",
    "2. Charge (-1 : Anion, +1: Cation, 0:Neutral Molecule)\n",
    "3. Multiplicity (1:singlet, 2:doublet; .....)\n",
    "4. Basis set(sto-3g, minao, 6-31, cc-pvdz, ....)\n",
    "\n",
    "\"\"\"\n",
    "#Initiating the PySCF driver(for setup of quantum chemical calculations and Hartree-fock Calculation)\n",
    "#Cartesian coordinates determine the position of the nucleus\n",
    "#Charge  = 0 since its a neutral molecule\n",
    "#Singlet state calculation - Multiplicity=1\n",
    "\n",
    "molecule = Molecule(geometry=[['H',[0.,0.,0.]],['H',[0.,0.,0.735]]],charge=0,multiplicity=1)\n",
    "print(molecule)"
   ]
  },
  {
   "cell_type": "code",
   "execution_count": 5,
   "id": "d0f46422-e9e7-4c26-8fa4-aac27ec3bb9c",
   "metadata": {},
   "outputs": [],
   "source": [
    "#import pyscf\n",
    "#driver = PySCFDriver(unit = UnitsType.ANGSTROM, basis = 'sto-3g')\n",
    "from qiskit_nature.drivers.second_quantization import (ElectronicStructureMoleculeDriver, ElectronicStructureDriverType)\n",
    "driver = ElectronicStructureMoleculeDriver(molecule=molecule,basis=\"sto3g\",driver_type=ElectronicStructureDriverType.PYSCF)"
   ]
  },
  {
   "cell_type": "code",
   "execution_count": 6,
   "id": "1773926f-2c22-4f98-88c8-ca082db6dedc",
   "metadata": {},
   "outputs": [
    {
     "name": "stdout",
     "output_type": "stream",
     "text": [
      "dict_keys(['ParticleNumber', 'ElectronicEnergy', 'DipoleMomentX', 'DipoleMomentY', 'DipoleMomentZ', 'AngularMomentum', 'Magnetization'])\n",
      "\n",
      "<class 'qiskit_nature.operators.second_quantization.fermionic_op.FermionicOp'>\n",
      "\n",
      "Fermionic Operator\n",
      "register length=4, number terms=36\n",
      "  -1.2563390730032498 * ( +_0 -_0 )\n",
      "+ -0.47189600728114245 * ( +_1 -_1 )\n",
      "+ -1.2563390730032498 * ( +_2 -_2 )\n",
      "+ -0.47189600728114245 * ( +_3 -_3 )\n",
      "+ -0.33785507740175813 * ( +_0 +_0 -_0 -_0 )\n",
      "+ -0. ...\n"
     ]
    }
   ],
   "source": [
    "#Performing the setup calculation using PySCF and retrieve data from the calculations\n",
    "es_problem = ElectronicStructureProblem(driver) #electronic structure problem\n",
    "\n",
    "#Getting the second quantized Hamiltonian in molecular orbital form\n",
    "second_q_op = es_problem.second_q_ops()\n",
    "print(second_q_op.keys())\n",
    "print(\"\")\n",
    "print(type(second_q_op['ElectronicEnergy']))\n",
    "print(\"\")\n",
    "print(second_q_op['ElectronicEnergy'])"
   ]
  },
  {
   "cell_type": "code",
   "execution_count": 7,
   "id": "35f9f136-c20c-40df-b43a-e4677d2b9219",
   "metadata": {},
   "outputs": [
    {
     "name": "stdout",
     "output_type": "stream",
     "text": [
      "2.0 * IIII\n",
      "- 0.5 * IIIZ\n",
      "- 0.5 * IIZZ\n",
      "- 0.5 * IZZI\n",
      "- 0.5 * ZZII\n",
      "\n",
      "1.9999999999999993 * II\n"
     ]
    }
   ],
   "source": [
    "\"\"\"\n",
    "#Jordan Wigner Mapping\n",
    "qubit_converter= QubitConverter(mapper=JordanWignerMapper())\n",
    "qubit_op= qubit_converter.convert(second_q_op['ParticleNumber'])\n",
    "print(qubit_op)\n",
    "print(\" \")\n",
    "\n",
    "#Bravyi Kitaev Mapping\n",
    "qubit_converter = QubitConverter(mapper=BravyiKitaevMapper())\n",
    "qubit_op = qubit_converter.convert(second_q_op['ParticleNumber'])\n",
    "print(qubit_op)\n",
    "print(\" \")\n",
    "\n",
    "# In the minimal STO-3G basis set 4 qubits are required. \n",
    "# We can reduce the number of qubits by using the Parity Mapping, \n",
    "# Which allows for the removal of 2 qubits by exploiting known symmetries arising from the mapping\n",
    "\n",
    "#Parity Mapping (with Two Qubit Reduction Off)\n",
    "qubit_converter= QubitConverter(mapper=ParityMapper(), two_qubit_reduction=False)\n",
    "qubit_op= qubit_converter.convert(second_q_op['ParticleNumber'], num_particles=es_problem.num_particles)\n",
    "print(qubit_op)\n",
    "print(\" \")\n",
    "\n",
    "#Parity Mapping (with Two Qubit Reduction On)\n",
    "qubit_converter= QubitConverter(mapper=ParityMapper(), two_qubit_reduction=True)\n",
    "qubit_op= qubit_converter.convert(second_q_op['ParticleNumber'], num_particles=es_problem.num_particles)\n",
    "print(qubit_op)\n",
    "\"\"\"\n",
    "\n",
    "from qiskit.opflow import TwoQubitReduction\n",
    "\n",
    "#Without Two Qubit Reduction\n",
    "mapper = ParityMapper() #Set Mapper\n",
    "hamiltonian = second_q_op['ParticleNumber']  #Set Hamiltonian\n",
    "qubit_converter = QubitConverter(mapper,two_qubit_reduction=True)\n",
    "qubit_op = qubit_converter.convert(hamiltonian)\n",
    "print(qubit_op)\n",
    "print()\n",
    "\n",
    "#With Two Qubit Reduction\n",
    "mapper = ParityMapper() #Set Mapper\n",
    "hamiltonian = second_q_op['ParticleNumber']  #Set Hamiltonian\n",
    "qubit_converter = QubitConverter(mapper,two_qubit_reduction=True)\n",
    "num_particles = es_problem.num_particles\n",
    "reducer = TwoQubitReduction(num_particles)\n",
    "qubit_op = qubit_converter.convert(hamiltonian)\n",
    "qubit_op = reducer.convert(qubit_op)\n",
    "print(qubit_op)"
   ]
  },
  {
   "cell_type": "code",
   "execution_count": 10,
   "id": "42e2e737-7fe8-409d-b7ec-16237692ea85",
   "metadata": {},
   "outputs": [
    {
     "name": "stdout",
     "output_type": "stream",
     "text": [
      "(1, 1)\n",
      "4\n",
      "\n",
      "(1, 1)\n",
      "4\n"
     ]
    }
   ],
   "source": [
    "\n",
    "#Setting up for the VQE Calculation\n",
    "#Setting the optimizer(COBYLA, L_BFGS_B (L-BFGS-B), and etc.)\n",
    "optimizer = SLSQP(maxiter=100) #SLSQP optimizer is a default for Qiskit\n",
    "\n",
    "\n",
    "\"\"\"\n",
    "#Setting the number of basis set and the number of particles\n",
    "num_spin_orbitals=4\n",
    "num_particles=(1,1)\n",
    "\"\"\"\n",
    "\"\"\"\n",
    "\"\"\"\n",
    "# Get properties\n",
    "properties = driver.run()\n",
    "num_particles = (properties.get_property(\"ParticleNumber\").num_particles)\n",
    "num_spin_orbitals = int(properties.get_property(\"ParticleNumber\").num_spin_orbitals)\n",
    "print(num_particles)\n",
    "print(num_spin_orbitals)\n",
    "print()\n",
    "\n",
    "#Setting the number of basis set and the number of particles\n",
    "num_spin_orbitals = es_problem.num_spin_orbitals\n",
    "num_particles = es_problem.num_particles\n",
    "print(num_particles)\n",
    "print(num_spin_orbitals)\n",
    "\n",
    "\"\"\"\n",
    "\"\"\"\n",
    "\n",
    "#Setting the intial state as the HF State |1100> or |1010> in Qiskit Convention\n",
    "initial_state = HartreeFock(num_spin_orbitals, num_particles, qubit_converter)\n",
    "\n",
    "#Set the UCCSD Ansatz to prepare the state more accurately\n",
    "ansatz = UCCSD(qubit_converter, num_particles, num_spin_orbitals, initial_state=initial_state)\n",
    "\n",
    "#Set the VQE Solver\n",
    "vqe_solver = VQE(ansatz = ansatz, optimizer = optimizer, quantum_instance=QuantumInstance(backend=Aer.get_backend(\"statevector_simulator\")))"
   ]
  },
  {
   "cell_type": "code",
   "execution_count": 11,
   "id": "32e9ef95-0ee9-4068-9ff8-b20f478df550",
   "metadata": {},
   "outputs": [
    {
     "name": "stdout",
     "output_type": "stream",
     "text": [
      "['__abstractmethods__', '__class__', '__delattr__', '__dict__', '__dir__', '__doc__', '__eq__', '__format__', '__ge__', '__getattribute__', '__gt__', '__hash__', '__init__', '__init_subclass__', '__le__', '__lt__', '__module__', '__ne__', '__new__', '__reduce__', '__reduce_ex__', '__repr__', '__setattr__', '__sizeof__', '__slots__', '__str__', '__subclasshook__', '__weakref__', '_abc_impl', '_aux_operator_eigenvalues', '_computed_dipole_moment', '_computed_energies', '_eigenenergies', '_eigenstates', '_extracted_transformer_dipoles', '_extracted_transformer_energies', '_hartree_fock_energy', '_magnetization', '_nuclear_dipole_moment', '_nuclear_repulsion_energy', '_num_particles', '_raw_result', '_reverse_dipole_sign', '_total_angular_momentum', 'aux_operator_eigenvalues', 'combine', 'computed_dipole_moment', 'computed_energies', 'dipole_moment', 'dipole_moment_in_debye', 'eigenenergies', 'eigenstates', 'electronic_dipole_moment', 'electronic_energies', 'extracted_transformer_dipole', 'extracted_transformer_dipoles', 'extracted_transformer_energies', 'extracted_transformer_energy', 'formatted', 'groundenergy', 'groundstate', 'hartree_fock_energy', 'has_dipole', 'has_observables', 'magnetization', 'nuclear_dipole_moment', 'nuclear_repulsion_energy', 'num_particles', 'raw_result', 'reverse_dipole_sign', 'spin', 'total_angular_momentum', 'total_dipole_moment', 'total_dipole_moment_in_debye', 'total_energies']\n"
     ]
    }
   ],
   "source": [
    "#Set the solver for the exact value of ground state energy for reference\n",
    "#Perform the VQE calculation using GroundStateEigenSolver\n",
    "calc = GroundStateEigensolver(qubit_converter, vqe_solver)\n",
    "res = calc.solve(es_problem)\n",
    "print(dir(res))"
   ]
  },
  {
   "cell_type": "code",
   "execution_count": 12,
   "id": "b64af9a9-ae23-4f3b-8da1-f32ac0ae3d2e",
   "metadata": {},
   "outputs": [
    {
     "name": "stdout",
     "output_type": "stream",
     "text": [
      "Using VQE  \n",
      "\n",
      "\n",
      "=== GROUND STATE ENERGY ===\n",
      " \n",
      "* Electronic ground state energy (Hartree): -1.857275030145\n",
      "  - computed part:      -1.857275030145\n",
      "~ Nuclear repulsion energy (Hartree): 0.719968994449\n",
      "> Total ground state energy (Hartree): -1.137306035696\n",
      " \n",
      "=== MEASURED OBSERVABLES ===\n",
      " \n",
      "  0:  # Particles: 2.000 S: 0.000 S^2: 0.000 M: 0.000\n",
      " \n",
      "=== DIPOLE MOMENTS ===\n",
      " \n",
      "~ Nuclear dipole moment (a.u.): [0.0  0.0  1.3889487]\n",
      " \n",
      "  0: \n",
      "  * Electronic dipole moment (a.u.): [0.0  0.0  1.3889487]\n",
      "    - computed part:      [0.0  0.0  1.3889487]\n",
      "  > Dipole moment (a.u.): [0.0  0.0  0.0]  Total: 0.0\n",
      "                 (debye): [0.0  0.0  0.0]  Total: 0.0\n",
      " \n"
     ]
    }
   ],
   "source": [
    "print(\"Using VQE  \\n\\n\\n{}\".format(res))"
   ]
  },
  {
   "cell_type": "code",
   "execution_count": 13,
   "id": "523a9e79-5181-4819-a6f2-3b8ba2dc7fa8",
   "metadata": {},
   "outputs": [
    {
     "name": "stdout",
     "output_type": "stream",
     "text": [
      "Using NumpyMinimumEigenSolver for reference  \n",
      "\n",
      "\n",
      "=== GROUND STATE ENERGY ===\n",
      " \n",
      "* Electronic ground state energy (Hartree): -1.857275030202\n",
      "  - computed part:      -1.857275030202\n",
      "~ Nuclear repulsion energy (Hartree): 0.719968994449\n",
      "> Total ground state energy (Hartree): -1.137306035753\n",
      " \n",
      "=== MEASURED OBSERVABLES ===\n",
      " \n",
      "  0:  # Particles: 2.000 S: 0.000 S^2: 0.000 M: 0.000\n",
      " \n",
      "=== DIPOLE MOMENTS ===\n",
      " \n",
      "~ Nuclear dipole moment (a.u.): [0.0  0.0  1.3889487]\n",
      " \n",
      "  0: \n",
      "  * Electronic dipole moment (a.u.): [0.0  0.0  1.3889487]\n",
      "    - computed part:      [0.0  0.0  1.3889487]\n",
      "  > Dipole moment (a.u.): [0.0  0.0  0.0]  Total: 0.0\n",
      "                 (debye): [0.0  0.0  0.0]  Total: 0.0\n",
      " \n"
     ]
    }
   ],
   "source": [
    "#Set the solver for the exact value of ground state energy for reference\n",
    "# Performing reference calculation\n",
    "solver = NumPyMinimumEigensolver()\n",
    "calc = GroundStateEigensolver(qubit_converter, solver)\n",
    "res= calc.solve(es_problem)\n",
    "print(\"Using NumpyMinimumEigenSolver for reference  \\n\\n\\n{}\".format(res))"
   ]
  },
  {
   "cell_type": "code",
   "execution_count": 26,
   "id": "c2129149-32e1-477f-ac4e-fa1428c58acc",
   "metadata": {},
   "outputs": [],
   "source": [
    "# Constructing PE Curve\n",
    "# Calculating the molecular energy while elongating H-H bond length\n",
    "\n",
    "h2_length = np.arange(0.3,2,0.1)\n",
    "hf_energy_list=[]\n",
    "uccsd_energy_list=[]\n",
    "nuclear_repulsion_energy_list = []\n",
    "optimizer = SLSQP(maxiter=100)\n",
    "\n",
    "for bond_length in h2_length:\n",
    "    molecule = Molecule(geometry=[['H',[0.,0., 0.]],['H',[0.,0.,bond_length]]], charge=0, multiplicity=1)\n",
    "    #driver = PySCFDriver(atom='H 0.0 0.0 0.0; H 0.0 0.0 '+str(bond_length), unit=UnitsType.ANGSTROM, basis='sto6g')\n",
    "    driver = ElectronicStructureMoleculeDriver(molecule=molecule,basis=\"sto3g\",driver_type=ElectronicStructureDriverType.PYSCF)\n",
    "    es_problem = ElectronicStructureProblem(driver)\n",
    "    qubit_converter = QubitConverter(mapper = ParityMapper(), two_qubit_reduction=True)\n",
    "    quantum_instance = QuantumInstance(backend =Aer.get_backend('statevector_simulator'))\n",
    "    vqe_solver = VQEUCCFactory(quantum_instance)\n",
    "    calc = GroundStateEigensolver(qubit_converter, vqe_solver)\n",
    "    res = calc.solve(es_problem)\n",
    "    hf_energy_list += [res.hartree_fock_energy]\n",
    "    uccsd_energy_list += [res.total_energies[0]]\n",
    "    nuclear_repulsion_energy_list += [res.nuclear_repulsion_energy]"
   ]
  },
  {
   "cell_type": "code",
   "execution_count": 16,
   "id": "b0bfc2c7-bd99-4b63-a21d-7cf1349cb643",
   "metadata": {},
   "outputs": [
    {
     "data": {
      "text/plain": [
       "'\\nprint(type(res))\\nprint(\"\")\\nprint(dir(res))\\nprint(\"\")\\nprint(res)\\n'"
      ]
     },
     "execution_count": 16,
     "metadata": {},
     "output_type": "execute_result"
    }
   ],
   "source": [
    "\"\"\"\n",
    "print(type(res))\n",
    "print(\"\")\n",
    "print(dir(res))\n",
    "print(\"\")\n",
    "print(res)\n",
    "\"\"\""
   ]
  },
  {
   "cell_type": "code",
   "execution_count": 17,
   "id": "360a6af1-3470-4274-8b65-3407ec187c3c",
   "metadata": {},
   "outputs": [
    {
     "data": {
      "text/plain": [
       "'\\n#HF_Energy\\nprint(res.hartree_fock_energy)\\nprint(res._hartree_fock_energy)\\nprint()\\n\\n#Electronic Ground State Energy\\nprint(res.groundenergy)\\nprint(res.electronic_energies)\\nprint(res._eigenenergies)\\nprint(res.computed_energies)\\nprint()\\n\\n#UCCSD_Energy\\nprint(res.total_energies[0])\\nprint(res.total_energies)\\nprint()\\n\\n\\nprint(res._extracted_transformer_energies)\\nprint(res.extracted_transformer_energy)\\nprint()\\n\\n#Nuclear Repulsion Energy\\nprint(res.nuclear_repulsion_energy) \\n\\n#Eigenstate\\nprint(res._eigenstates)\\n'"
      ]
     },
     "execution_count": 17,
     "metadata": {},
     "output_type": "execute_result"
    }
   ],
   "source": [
    "\"\"\"\n",
    "#HF_Energy\n",
    "print(res.hartree_fock_energy)\n",
    "print(res._hartree_fock_energy)\n",
    "print()\n",
    "\n",
    "#Electronic Ground State Energy\n",
    "print(res.groundenergy)\n",
    "print(res.electronic_energies)\n",
    "print(res._eigenenergies)\n",
    "print(res.computed_energies)\n",
    "print()\n",
    "\n",
    "#UCCSD_Energy\n",
    "print(res.total_energies[0])\n",
    "print(res.total_energies)\n",
    "print()\n",
    "\n",
    "\n",
    "print(res._extracted_transformer_energies)\n",
    "print(res.extracted_transformer_energy)\n",
    "print()\n",
    "\n",
    "#Nuclear Repulsion Energy\n",
    "print(res.nuclear_repulsion_energy) \n",
    "\n",
    "#Eigenstate\n",
    "print(res._eigenstates)\n",
    "\"\"\""
   ]
  },
  {
   "cell_type": "code",
   "execution_count": 27,
   "id": "3e37be9d-cacc-4267-8170-a2ea2d1b069a",
   "metadata": {},
   "outputs": [],
   "source": [
    "Numpy_EigenSolver = []\n",
    "for bond_length in h2_length:\n",
    "    \n",
    "    molecule = Molecule(geometry=[['H',[0.,0., 0.]],['H',[0.,0.,bond_length]]], charge=0, multiplicity=1)\n",
    "    driver = PySCFDriver(atom='H 0.0 0.0 0.0; H 0.0 0.0 '+str(bond_length), unit=UnitsType.ANGSTROM, basis='sto6g')\n",
    "    es_problem = ElectronicStructureProblem(driver)\n",
    "    qubit_converter = QubitConverter(mapper = ParityMapper(), two_qubit_reduction=True)\n",
    "    \n",
    "    #Set the solver for the exact value of ground state energy for reference\n",
    "    solver = NumPyMinimumEigensolver()\n",
    "    # Performing reference calculation\n",
    "    calc = GroundStateEigensolver(qubit_converter, solver)\n",
    "    res= calc.solve(es_problem)\n",
    "    Numpy_EigenSolver += [res.total_energies[0]]"
   ]
  },
  {
   "cell_type": "code",
   "execution_count": 30,
   "id": "ddce7bdf-878e-48ce-9da1-023f912045c1",
   "metadata": {},
   "outputs": [
    {
     "name": "stdout",
     "output_type": "stream",
     "text": [
      "-1.1173490349902795\n",
      "0.7000000000000002\n",
      "\n",
      "-1.136189454011311\n",
      "0.7000000000000002\n",
      "\n",
      "-1.1449790794982975\n",
      "0.7000000000000002\n"
     ]
    },
    {
     "data": {
      "text/plain": [
       "<matplotlib.legend.Legend at 0x7fe463b83100>"
      ]
     },
     "execution_count": 30,
     "metadata": {},
     "output_type": "execute_result"
    },
    {
     "data": {
      "image/png": "[encoded data removed]",
      "text/plain": [
       "<Figure size 720x432 with 1 Axes>"
      ]
     },
     "metadata": {
      "needs_background": "light"
     },
     "output_type": "display_data"
    }
   ],
   "source": [
    "plt.figure(figsize=(10,6)) \n",
    "plt.plot(h2_length, hf_energy_list, color='red', label='HF')\n",
    "print(min(hf_energy_list))\n",
    "print(h2_length[np.argmin(hf_energy_list)])\n",
    "print()\n",
    "\n",
    "plt.plot(h2_length, uccsd_energy_list, color='green', label='UCCSD')\n",
    "print(min(uccsd_energy_list))\n",
    "print(h2_length[np.argmin(uccsd_energy_list)])\n",
    "print()\n",
    "\n",
    "plt.plot(h2_length, Numpy_EigenSolver, color='black', label='Exact', linestyle='dashed')\n",
    "print(min(Numpy_EigenSolver))\n",
    "print(h2_length[np.argmin(Numpy_EigenSolver)])\n",
    "\n",
    "\n",
    "plt.title(\"Potential Energy Curve of H-H Molecule\")\n",
    "plt.xlabel(\"H-H bond length\")\n",
    "plt.ylabel(\"Energy Hartree\")\n",
    "plt.legend()\n",
    "\n",
    "#UCCSD converges at the dissociation limit while HF doesn't"
   ]
  },
  {
   "cell_type": "code",
   "execution_count": 32,
   "id": "7176e962-ab59-4999-8d50-56cdf4c4b3d6",
   "metadata": {},
   "outputs": [
    {
     "data": {
      "text/plain": [
       "<matplotlib.legend.Legend at 0x7fe463ad8400>"
      ]
     },
     "execution_count": 32,
     "metadata": {},
     "output_type": "execute_result"
    },
    {
     "data": {
      "image/png": "[encoded data removed]",
      "text/plain": [
       "<Figure size 720x432 with 1 Axes>"
      ]
     },
     "metadata": {
      "needs_background": "light"
     },
     "output_type": "display_data"
    }
   ],
   "source": [
    "plt.figure(figsize=(10,6))\n",
    "plt.plot(h2_length, nuclear_repulsion_energy_list, color='red', label='Nuclear_Repulsion_Energies')\n",
    "\n",
    "#Checking if the graph below is an 1/r curve or not\n",
    "l = np.arange(0.3,2,0.1)\n",
    "array = []\n",
    "for r in l:\n",
    "    array.append(0.52/(r)) # 0.53 is a hit and trial attempt\n",
    "\n",
    "plt.plot(l, array, color='black', alpha = 1, linestyle='dashed',  label='0.52/r plot')\n",
    "plt.title(\"Nuclear Repulsion Curve of H-H Molecule\")\n",
    "plt.xlabel(\"H-H bond length\")\n",
    "plt.ylabel(\"Energy Hartree\")\n",
    "plt.legend()"
   ]
  }
 ],
 "metadata": {
  "kernelspec": {
   "display_name": "Python 3 (ipykernel)",
   "language": "python",
   "name": "python3"
  },
  "language_info": {
   "codemirror_mode": {
    "name": "ipython",
    "version": 3
   },
   "file_extension": ".py",
   "mimetype": "text/x-python",
   "name": "python",
   "nbconvert_exporter": "python",
   "pygments_lexer": "ipython3",
   "version": "3.8.13"
  },
  "widgets": {
   "application/vnd.jupyter.widget-state+json": {
    "state": {
     "008569865e324db49c5d572c4db2e111": {
      "model_module": "@jupyter-widgets/controls",
      "model_module_version": "1.5.0",
      "model_name": "DescriptionStyleModel",
      "state": {
       "description_width": ""
      }
     },
     "10de357066fe40009731684b8e796b16": {
      "model_module": "@jupyter-widgets/base",
      "model_module_version": "1.2.0",
      "model_name": "LayoutModel",
      "state": {
       "width": "190px"
      }
     },
     "24650a2a10ef4eedb322c2079e80df1f": {
      "model_module": "@jupyter-widgets/base",
      "model_module_version": "1.2.0",
      "model_name": "LayoutModel",
      "state": {
       "width": "145px"
      }
     },
     "2d9205cddb4b4c7f8fd2420557085b76": {
      "model_module": "@jupyter-widgets/controls",
      "model_module_version": "1.5.0",
      "model_name": "HTMLModel",
      "state": {
       "layout": "IPY_MODEL_5cf205f8eb6f4641ad429cbf03c6b525",
       "style": "IPY_MODEL_6d348f4d1c9c454cb11dee9124764771",
       "value": "<h5>Status</h5>"
      }
     },
     "3647e95f64964322832dd0835e14c3b9": {
      "model_module": "@jupyter-widgets/controls",
      "model_module_version": "1.5.0",
      "model_name": "DescriptionStyleModel",
      "state": {
       "description_width": ""
      }
     },
     "3d75bb67efa64ccaaa8420eab7e9f420": {
      "model_module": "@jupyter-widgets/controls",
      "model_module_version": "1.5.0",
      "model_name": "ButtonModel",
      "state": {
       "button_style": "primary",
       "description": "Clear",
       "layout": "IPY_MODEL_a96717e1abb64071bb2a98abef7b0261",
       "style": "IPY_MODEL_6c46ea064933462f8343aa3c605ecbb3"
      }
     },
     "462fb93d161c40e8b07391dfcf7aa56e": {
      "model_module": "@jupyter-widgets/base",
      "model_module_version": "1.2.0",
      "model_name": "LayoutModel",
      "state": {
       "width": "70px"
      }
     },
     "4d56b815cb0c4082be62565c0e08dd76": {
      "model_module": "@jupyter-widgets/base",
      "model_module_version": "1.2.0",
      "model_name": "LayoutModel",
      "state": {
       "grid_template_areas": "\n                                       \". . . . right \"\n                                        ",
       "grid_template_columns": "20% 20% 20% 20% 20%",
       "width": "100%"
      }
     },
     "5cf205f8eb6f4641ad429cbf03c6b525": {
      "model_module": "@jupyter-widgets/base",
      "model_module_version": "1.2.0",
      "model_name": "LayoutModel",
      "state": {
       "width": "95px"
      }
     },
     "63d5a895b12543c2b2c1d04abcc89e88": {
      "model_module": "@jupyter-widgets/controls",
      "model_module_version": "1.5.0",
      "model_name": "HTMLModel",
      "state": {
       "layout": "IPY_MODEL_6a724e115a3f4c25b05c8b470d256e05",
       "style": "IPY_MODEL_bb132b7dc2484d70993c9f2fd15d2691",
       "value": "<h5>Message</h5>"
      }
     },
     "6a724e115a3f4c25b05c8b470d256e05": {
      "model_module": "@jupyter-widgets/base",
      "model_module_version": "1.2.0",
      "model_name": "LayoutModel",
      "state": {}
     },
     "6c46ea064933462f8343aa3c605ecbb3": {
      "model_module": "@jupyter-widgets/controls",
      "model_module_version": "1.5.0",
      "model_name": "ButtonStyleModel",
      "state": {}
     },
     "6d348f4d1c9c454cb11dee9124764771": {
      "model_module": "@jupyter-widgets/controls",
      "model_module_version": "1.5.0",
      "model_name": "DescriptionStyleModel",
      "state": {
       "description_width": ""
      }
     },
     "6eeb484fa76f4d2fbb741b3982baf573": {
      "model_module": "@jupyter-widgets/controls",
      "model_module_version": "1.5.0",
      "model_name": "HTMLModel",
      "state": {
       "layout": "IPY_MODEL_ebe7a419f491470daa4275bf68b250f3",
       "style": "IPY_MODEL_3647e95f64964322832dd0835e14c3b9",
       "value": "<p style='font-family: IBM Plex Sans, Arial, Helvetica, sans-serif; font-size: 20px; font-weight: medium;'>Circuit Properties</p>"
      }
     },
     "94016763328c443ca41713f80b83f34e": {
      "model_module": "@jupyter-widgets/controls",
      "model_module_version": "1.5.0",
      "model_name": "HTMLModel",
      "state": {
       "layout": "IPY_MODEL_24650a2a10ef4eedb322c2079e80df1f",
       "style": "IPY_MODEL_ec912e29c3574c91bba1f4b94a3407c8",
       "value": "<h5>Backend</h5>"
      }
     },
     "a96717e1abb64071bb2a98abef7b0261": {
      "model_module": "@jupyter-widgets/base",
      "model_module_version": "1.2.0",
      "model_name": "LayoutModel",
      "state": {
       "grid_area": "right",
       "padding": "0px 0px 0px 0px",
       "width": "70px"
      }
     },
     "ac47727ec7c04822aeba1f912c2b91cf": {
      "model_module": "@jupyter-widgets/controls",
      "model_module_version": "1.5.0",
      "model_name": "HBoxModel",
      "state": {
       "children": [
        "IPY_MODEL_cad93100b1984e77aa6ed865dc2a0c49",
        "IPY_MODEL_94016763328c443ca41713f80b83f34e",
        "IPY_MODEL_2d9205cddb4b4c7f8fd2420557085b76",
        "IPY_MODEL_cfb1a793b64548c489e27b1259d3e787",
        "IPY_MODEL_63d5a895b12543c2b2c1d04abcc89e88"
       ],
       "layout": "IPY_MODEL_b2f8d7f7b71d47abb9102c92b98351e0"
      }
     },
     "b2f8d7f7b71d47abb9102c92b98351e0": {
      "model_module": "@jupyter-widgets/base",
      "model_module_version": "1.2.0",
      "model_name": "LayoutModel",
      "state": {
       "margin": "0px 0px 0px 37px",
       "width": "600px"
      }
     },
     "bb132b7dc2484d70993c9f2fd15d2691": {
      "model_module": "@jupyter-widgets/controls",
      "model_module_version": "1.5.0",
      "model_name": "DescriptionStyleModel",
      "state": {
       "description_width": ""
      }
     },
     "bd4aae3f53b543dabf4cb34b4db4b9c8": {
      "model_module": "@jupyter-widgets/controls",
      "model_module_version": "1.5.0",
      "model_name": "DescriptionStyleModel",
      "state": {
       "description_width": ""
      }
     },
     "cad93100b1984e77aa6ed865dc2a0c49": {
      "model_module": "@jupyter-widgets/controls",
      "model_module_version": "1.5.0",
      "model_name": "HTMLModel",
      "state": {
       "layout": "IPY_MODEL_10de357066fe40009731684b8e796b16",
       "style": "IPY_MODEL_008569865e324db49c5d572c4db2e111",
       "value": "<h5>Job ID</h5>"
      }
     },
     "cfb1a793b64548c489e27b1259d3e787": {
      "model_module": "@jupyter-widgets/controls",
      "model_module_version": "1.5.0",
      "model_name": "HTMLModel",
      "state": {
       "layout": "IPY_MODEL_462fb93d161c40e8b07391dfcf7aa56e",
       "style": "IPY_MODEL_bd4aae3f53b543dabf4cb34b4db4b9c8",
       "value": "<h5>Queue</h5>"
      }
     },
     "d3123cb74c2a409fb010dad43510ccbc": {
      "model_module": "@jupyter-widgets/controls",
      "model_module_version": "1.5.0",
      "model_name": "GridBoxModel",
      "state": {
       "children": [
        "IPY_MODEL_3d75bb67efa64ccaaa8420eab7e9f420"
       ],
       "layout": "IPY_MODEL_4d56b815cb0c4082be62565c0e08dd76"
      }
     },
     "ebe7a419f491470daa4275bf68b250f3": {
      "model_module": "@jupyter-widgets/base",
      "model_module_version": "1.2.0",
      "model_name": "LayoutModel",
      "state": {
       "margin": "0px 0px 10px 0px"
      }
     },
     "ec912e29c3574c91bba1f4b94a3407c8": {
      "model_module": "@jupyter-widgets/controls",
      "model_module_version": "1.5.0",
      "model_name": "DescriptionStyleModel",
      "state": {
       "description_width": ""
      }
     }
    },
    "version_major": 2,
    "version_minor": 0
   }
  }
 },
 "nbformat": 4,
 "nbformat_minor": 5
}
