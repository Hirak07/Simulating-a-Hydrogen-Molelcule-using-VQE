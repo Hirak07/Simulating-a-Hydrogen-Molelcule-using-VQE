{
 "cells": [
  {
   "cell_type": "markdown",
   "id": "ec358d5d-c304-4484-a392-8bd1170bad4c",
   "metadata": {},
   "source": [
    "# Variational Quantum EigenSolver"
   ]
  },
  {
   "cell_type": "code",
   "execution_count": 1,
   "id": "c53a8064-d477-4dec-9ac1-015df0f757ca",
   "metadata": {},
   "outputs": [
    {
     "name": "stderr",
     "output_type": "stream",
     "text": [
      "<frozen importlib._bootstrap>:219: RuntimeWarning: scipy._lib.messagestream.MessageStream size changed, may indicate binary incompatibility. Expected 56 from C header, got 64 from PyObject\n"
     ]
    }
   ],
   "source": [
    "import numpy as np\n",
    "import pylab\n",
    "\n",
    "# Importing standard Qiskit libraries\n",
    "from qiskit import QuantumCircuit, transpile, Aer, IBMQ\n",
    "from qiskit.tools.jupyter import *\n",
    "from qiskit.visualization import *\n",
    "from ibm_quantum_widgets import *\n",
    "from qiskit.providers.aer import QasmSimulator\n",
    "\n",
    "# Loading your IBM Quantum account(s)\n",
    "provider = IBMQ.load_account()"
   ]
  },
  {
   "cell_type": "markdown",
   "id": "4b4312dc-f0d3-4f1d-b96f-3a01b8eb6c44",
   "metadata": {},
   "source": [
    "## 1.  Basic VQE Calculation\n",
    "### 1.1 Importing basic libraries and standard Qiskit libraries"
   ]
  },
  {
   "cell_type": "code",
   "execution_count": 3,
   "id": "998d9cec-043c-4fb8-8f35-163fdcd35a7f",
   "metadata": {},
   "outputs": [],
   "source": [
    "import numpy as np\n",
    "from qiskit import QuantumCircuit, transpile, Aer, IBMQ\n",
    "from qiskit.providers.aer import StatevectorSimulator\n",
    "from qiskit.utils import QuantumInstance\n",
    "from qiskit.tools.jupyter import *\n",
    "from qiskit.visualization import *\n",
    "from qiskit.providers.ibmq import least_busy\n",
    "from qiskit.circuit.library import TwoLocal"
   ]
  },
  {
   "cell_type": "markdown",
   "id": "0068940f-1047-4ebc-980d-2dfc1b998d88",
   "metadata": {},
   "source": [
    "1.2 Importing Qiskit Nature librarires for quantum chemistry simulation"
   ]
  },
  {
   "cell_type": "code",
   "execution_count": 4,
   "id": "55124af0-92a7-448e-b7a5-8ccbdda669ad",
   "metadata": {},
   "outputs": [],
   "source": [
    "#Importing Qiskit Librarires for VQE\n",
    "from qiskit.algorithms import NumPyMinimumEigensolver, VQE\n",
    "from qiskit.algorithms.optimizers import COBYLA, SLSQP, L_BFGS_B, SPSA"
   ]
  },
  {
   "cell_type": "code",
   "execution_count": 5,
   "id": "eefb4219-b66c-41ce-976f-9b26fcf27c8c",
   "metadata": {},
   "outputs": [],
   "source": [
    "#Import Qiskit Nature Libararies\n",
    "from qiskit_nature.settings import settings\n",
    "from qiskit_nature.drivers import UnitsType, Molecule\n",
    "from qiskit_nature.drivers.second_quantization import PySCFDriver\n",
    "from qiskit_nature.problems.second_quantization.electronic import ElectronicStructureProblem\n",
    "from qiskit_nature.converters.second_quantization import QubitConverter \n",
    "from qiskit_nature.mappers.second_quantization import JordanWignerMapper, ParityMapper, BravyiKitaevMapper\n",
    "#from qiskit_nature.transformers import ActiveSpaceTransformer #ActiveSpaceTransformer Missing\n",
    "from qiskit_nature.algorithms import VQEUCCFactory, GroundStateEigensolver\n",
    "from qiskit_nature.circuit.library import HartreeFock, UCCSD, PUCCD\n",
    "settings.dict_aux_operators =True"
   ]
  },
  {
   "cell_type": "markdown",
   "id": "6fc2ab20-1506-459e-998e-3f72a2ea3218",
   "metadata": {},
   "source": [
    "### 1.3 Setting up the molecule"
   ]
  },
  {
   "cell_type": "code",
   "execution_count": 6,
   "id": "b931c0f9-2264-46e5-9e06-b1d2de3132f6",
   "metadata": {},
   "outputs": [],
   "source": [
    "molecule = Molecule(geometry=[['H',[0.,0.,0.]],['H',[0.,0.,0.735]]],charge=0,multiplicity=1)"
   ]
  },
  {
   "cell_type": "markdown",
   "id": "40dd1a0b-bf3e-470d-86b9-643783c41009",
   "metadata": {},
   "source": [
    "### 1.4 Initiating the PySCF driver(for setup of quantum chemical calculations and Hartree-fock Calculation)"
   ]
  },
  {
   "cell_type": "code",
   "execution_count": 7,
   "id": "ea185ebc-f712-4946-aa20-467a9ef67488",
   "metadata": {},
   "outputs": [],
   "source": [
    "import pyscf\n",
    "driver = PySCFDriver(unit=UnitsType.ANGSTROM, basis='sto3g')"
   ]
  },
  {
   "cell_type": "code",
   "execution_count": 9,
   "id": "2d37f80b-c094-4701-b420-6ed177f7190c",
   "metadata": {},
   "outputs": [
    {
     "name": "stdout",
     "output_type": "stream",
     "text": [
      "<class 'dict'>\n",
      "Fermionic Operator\n",
      "register length=4, number terms=4\n",
      "  (1+0j) * ( +_0 -_0 )\n",
      "+ (1+0j) * ( +_1 -_1 )\n",
      "+ (1+0j) * ( +_2 -_2 )\n",
      "+ (1+0j) * ( +_3 -_3 )\n"
     ]
    }
   ],
   "source": [
    "#Performing the setup calculation using PySCF and retrieve data from the calculations\n",
    "es_problem = ElectronicStructureProblem(driver)\n",
    "#Getting the second quantized Hamiltonian\n",
    "second_q_op = es_problem.second_q_ops()\n",
    "print(type(second_q_op))\n",
    "print(second_q_op['ParticleNumber'])"
   ]
  },
  {
   "cell_type": "code",
   "execution_count": null,
   "id": "ce431f1c-8278-424a-9209-441ba0f9c22e",
   "metadata": {},
   "outputs": [],
   "source": [
    "#num_particles=(es_problem.molecule_data_transformed.num_alpha,\n",
    "#               es_problem.molecule_data_transformed.num_beta)\n",
    "#num_spin_orbitals = 2* es_problem.molceule_data.num_molecular_orbitals"
   ]
  },
  {
   "cell_type": "markdown",
   "id": "2bcf5a23-43db-4013-ae7b-2d972f0064ee",
   "metadata": {},
   "source": [
    "### 1.5 Transfrom the Hamiltonian into qubitized form"
   ]
  },
  {
   "cell_type": "code",
   "execution_count": 10,
   "id": "1b510c08-94b1-4e2c-ab7f-1659e9dff778",
   "metadata": {},
   "outputs": [
    {
     "name": "stdout",
     "output_type": "stream",
     "text": [
      "2.0 * IIII\n",
      "- 0.5 * IIIZ\n",
      "- 0.5 * IIZI\n",
      "- 0.5 * IZII\n",
      "- 0.5 * ZIII\n",
      "2.0 * IIII\n",
      "- 0.5 * IIIZ\n",
      "- 0.5 * IIZZ\n",
      "- 0.5 * IZII\n",
      "- 0.5 * ZZZI\n"
     ]
    }
   ],
   "source": [
    "qubit_converter= QubitConverter(mapper=JordanWignerMapper())\n",
    "qubit_op= qubit_converter.convert(second_q_op['ParticleNumber'])\n",
    "print(qubit_op) \n",
    "\n",
    "#Bravyi Kitaev Mapping\n",
    "qubit_converter = QubitConverter(mapper=BravyiKitaevMapper())\n",
    "qubit_op = qubit_converter.convert(second_q_op['ParticleNumber'])\n",
    "print(qubit_op)"
   ]
  },
  {
   "cell_type": "markdown",
   "id": "676ca396-5060-40f0-82a9-993c58371b31",
   "metadata": {},
   "source": [
    "In the minimal STO-3G basis set 4 qubits are required. We can reduce the number of qubits by using the Parity Mapping, which allows for the removal of 2 qubits by exploiting known symmetries arising from the mapping"
   ]
  },
  {
   "cell_type": "markdown",
   "id": "29835195-add0-4c5f-9786-6eb1691facda",
   "metadata": {},
   "source": [
    "### 1.6 Comparison with two qubit reduction"
   ]
  },
  {
   "cell_type": "code",
   "execution_count": 11,
   "id": "8d7dc7d1-33f1-426a-b2e4-a4b790309b11",
   "metadata": {},
   "outputs": [
    {
     "name": "stdout",
     "output_type": "stream",
     "text": [
      "Traceback \u001b[1;36m(most recent call last)\u001b[0m:\n",
      "\u001b[1;36m  Input \u001b[1;32mIn [11]\u001b[1;36m in \u001b[1;35m<cell line: 3>\u001b[1;36m\u001b[0m\n",
      "\u001b[1;33m    qubit_op2 = qubit_converter2.convert(second_q_op[0], num_particles=es_problem.num_particles)\u001b[0m\n",
      "\u001b[1;31mKeyError\u001b[0m\u001b[1;31m:\u001b[0m 0\n",
      "\n",
      "Use %tb to get the full traceback.\n"
     ]
    },
    {
     "data": {
      "text/html": [
       "\n",
       "<style>\n",
       ".button {\n",
       "  border: none;\n",
       "  color: white;\n",
       "  padding: 4px 8px;\n",
       "  text-align: center;\n",
       "  text-decoration: none;\n",
       "  display: inline-block;\n",
       "  font-size: 12px;\n",
       "  margin: 4px 2px;\n",
       "  transition-duration: 0.2s;\n",
       "  cursor: pointer;\n",
       "}\n",
       ".iqx-button {\n",
       "  background-color: #0f62fe; \n",
       "  color: white; \n",
       "}\n",
       ".iqx-button:hover {\n",
       "  background-color: #0043ce;\n",
       "  color: white;\n",
       "}\n",
       "</style>\n",
       "<a href=\"https://stackoverflow.com/search?q=KeyError: 0\" target='_blank'><button class='button iqx-button'>Search for solution online</button></a>\n"
      ],
      "text/plain": [
       "<IPython.core.display.HTML object>"
      ]
     },
     "metadata": {},
     "output_type": "display_data"
    }
   ],
   "source": [
    "qubit_converter2= QubitConverter(mapper = ParityMapper(), two_qubit_reduction=True)\n",
    "#If two_qubit_reduction is assigned as False, the number of terms will same as that of JW and BK Mapping\n",
    "qubit_op2 = qubit_converter2.convert(second_q_op[0], num_particles=es_problem.num_particles)\n",
    "print(qubit_op2)"
   ]
  },
  {
   "cell_type": "code",
   "execution_count": 12,
   "id": "b7687e05-b210-450e-99f9-40497ff8d2a2",
   "metadata": {},
   "outputs": [],
   "source": [
    "#Set the solver for the exact value\n",
    "numpy_solver = NumPyMinimumEigensolver()"
   ]
  },
  {
   "cell_type": "markdown",
   "id": "176d8883-dcc3-4ccb-97b8-898af084f1bc",
   "metadata": {},
   "source": [
    "### 1.7 Performing reference calculation"
   ]
  },
  {
   "cell_type": "code",
   "execution_count": 13,
   "id": "3e5caeae-0b44-4c06-8096-2b226638e9db",
   "metadata": {},
   "outputs": [
    {
     "name": "stdout",
     "output_type": "stream",
     "text": [
      "=== GROUND STATE ENERGY ===\n",
      " \n",
      "* Electronic ground state energy (Hartree): -1.857275030202\n",
      "  - computed part:      -1.857275030202\n",
      "~ Nuclear repulsion energy (Hartree): 0.719968994449\n",
      "> Total ground state energy (Hartree): -1.137306035753\n",
      " \n",
      "=== MEASURED OBSERVABLES ===\n",
      " \n",
      "  0:  # Particles: 2.000 S: 0.000 S^2: 0.000 M: 0.000\n",
      " \n",
      "=== DIPOLE MOMENTS ===\n",
      " \n",
      "~ Nuclear dipole moment (a.u.): [0.0  0.0  1.3889487]\n",
      " \n",
      "  0: \n",
      "  * Electronic dipole moment (a.u.): [0.0  0.0  1.3889487]\n",
      "    - computed part:      [0.0  0.0  1.3889487]\n",
      "  > Dipole moment (a.u.): [0.0  0.0  0.0]  Total: 0.0\n",
      "                 (debye): [0.0  0.0  0.0]  Total: 0.0\n",
      " \n"
     ]
    }
   ],
   "source": [
    "calc = GroundStateEigensolver(qubit_converter, numpy_solver)\n",
    "res= calc.solve(es_problem)\n",
    "print(res)"
   ]
  },
  {
   "cell_type": "markdown",
   "id": "ced4b69c-9c16-47c8-8c92-5c1e8bbde202",
   "metadata": {},
   "source": [
    "### 1.8 Setting up for the VQE Calculation"
   ]
  },
  {
   "cell_type": "code",
   "execution_count": 14,
   "id": "7926fa1e-f3f3-4e85-ac56-71a7413a3092",
   "metadata": {},
   "outputs": [],
   "source": [
    "#Setting the optimizer(COBYLA, L_BFGS_B (L-BFGS-B), and etc.)\n",
    "optimizer = SLSQP(maxiter=100)\n",
    "\n",
    "#Setting the number of basis set and the number of particles\n",
    "num_spin_orbitals=4\n",
    "num_particles=(1,1)\n",
    "\n",
    "#Setting the intial state as the HF State 1100 or 1010 in Qiskit Convention\n",
    "initial_state = HartreeFock(num_spin_orbitals, num_particles, qubit_converter)\n",
    "\n",
    "#Set the UCCSD Ansatz\n",
    "ansatz = UCCSD(qubit_converter, num_particles, num_spin_orbitals, initial_state=initial_state)\n",
    "\n",
    "#Set the VQE Solver\n",
    "vqe_solver = VQE(ansatz = ansatz, optimizer = optimizer, quantum_instance=QuantumInstance(backend=Aer.get_backend(\"statevector_simulator\")))"
   ]
  },
  {
   "cell_type": "markdown",
   "id": "e3581f17-bcf1-427e-87d9-b1cadb04266a",
   "metadata": {},
   "source": [
    "### 1.9 Perform the VQE calculation using GroundStateEigensolver"
   ]
  },
  {
   "cell_type": "code",
   "execution_count": 15,
   "id": "b505dd35-0949-434a-ad17-d733f93fb2d6",
   "metadata": {},
   "outputs": [
    {
     "name": "stdout",
     "output_type": "stream",
     "text": [
      "=== GROUND STATE ENERGY ===\n",
      " \n",
      "* Electronic ground state energy (Hartree): -1.857275030144\n",
      "  - computed part:      -1.857275030144\n",
      "~ Nuclear repulsion energy (Hartree): 0.719968994449\n",
      "> Total ground state energy (Hartree): -1.137306035695\n",
      " \n",
      "=== MEASURED OBSERVABLES ===\n",
      " \n",
      "  0:  # Particles: 2.000 S: 0.000 S^2: 0.000 M: 0.000\n",
      " \n",
      "=== DIPOLE MOMENTS ===\n",
      " \n",
      "~ Nuclear dipole moment (a.u.): [0.0  0.0  1.3889487]\n",
      " \n",
      "  0: \n",
      "  * Electronic dipole moment (a.u.): [0.0  0.0  1.38894843]\n",
      "    - computed part:      [0.0  0.0  1.38894843]\n",
      "  > Dipole moment (a.u.): [0.0  0.0  0.00000027]  Total: 0.00000027\n",
      "                 (debye): [0.0  0.0  0.00000068]  Total: 0.00000068\n",
      " \n"
     ]
    }
   ],
   "source": [
    "from qiskit_nature.algorithms import GroundStateEigensolver\n",
    "#Perform the VQE Calculation using the Ground State EigenSolver\n",
    "calc = GroundStateEigensolver(qubit_converter, vqe_solver)\n",
    "res = calc.solve(es_problem)\n",
    "print(res)"
   ]
  },
  {
   "cell_type": "markdown",
   "id": "a5d4fc5e-3085-4103-8863-876d01dc8435",
   "metadata": {},
   "source": [
    "## 2. Constructing a PE Curve"
   ]
  },
  {
   "cell_type": "markdown",
   "id": "25d51e8b-a5b6-4821-891c-536557485f8c",
   "metadata": {},
   "source": [
    "### 2.1 Calculating the molecular energy while elongating H-H bond length"
   ]
  },
  {
   "cell_type": "code",
   "execution_count": 17,
   "id": "9edffbd1-2722-4e8f-a283-1a286cc28be7",
   "metadata": {},
   "outputs": [
    {
     "name": "stderr",
     "output_type": "stream",
     "text": [
      "/tmp/ipykernel_59/930572060.py:10: DeprecationWarning: VQEUCCFactory Constructor: quantum_instance is no longer a positional argument as of version 0.4 and will be removed no sooner than 3 months after the release. Instead use it as a keyword argument\n",
      "  vqe_solver = VQEUCCFactory(quantum_instance)\n"
     ]
    },
    {
     "name": "stdout",
     "output_type": "stream",
     "text": [
      "[-1.042996274540095, -1.1011282422677018, -1.11734903499028, -1.1108503974765953, -1.0919140410200567, -1.0661086493179364, -1.03653887502918, -1.0051067065684898, -0.9731106157775782, -0.9414806547077987, -0.9108735545943863, -0.8817324499460566, -0.8543376269512921, -0.8288481479269776, -0.8053328448932777, -0.7837926542773531, -0.7641776516167976, -0.746401349991159, -0.7303533213548867, -0.7159100604538069, -0.7029435997235272, -0.691327561197378, -0.6809407606225897, -0.671668859751728, -0.6634047415990407]\n"
     ]
    }
   ],
   "source": [
    "h2_length = np.arange(0.5,3,0.1)\n",
    "hf_energy_list=[]\n",
    "uccsd_energy_list=[]\n",
    "for bond_length in h2_length:\n",
    "    molecule = Molecule(geometry=[['H',[0.,0., 0.]],['H',[0.,0.,bond_length]]], charge=0, multiplicity=1)\n",
    "    driver = PySCFDriver(atom='H 0.0 0.0 0.0; H 0.0 0.0 '+str(bond_length), unit=UnitsType.ANGSTROM, basis='sto3g')\n",
    "    es_problem = ElectronicStructureProblem(driver)\n",
    "    qubit_converter = QubitConverter(mapper = ParityMapper(), two_qubit_reduction=True)\n",
    "    quantum_instance = QuantumInstance(backend =Aer.get_backend('statevector_simulator'))\n",
    "    vqe_solver = VQEUCCFactory(quantum_instance)\n",
    "    calc = GroundStateEigensolver(qubit_converter, vqe_solver)\n",
    "    res = calc.solve(es_problem)\n",
    "    #VQEUCCFactory.get_solver(es_problem, qubit_converter)\n",
    "    hf_energy_list += [res.hartree_fock_energy]\n",
    "    uccsd_energy_list += [res.total_energies[0]]\n",
    "print (hf_energy_list)\n"
   ]
  },
  {
   "cell_type": "code",
   "execution_count": 18,
   "id": "57b36eca-58d8-48c1-bed7-95209ef6f66f",
   "metadata": {},
   "outputs": [
    {
     "data": {
      "text/plain": [
       "<matplotlib.legend.Legend at 0x7fca09cb8cd0>"
      ]
     },
     "execution_count": 18,
     "metadata": {},
     "output_type": "execute_result"
    },
    {
     "data": {
      "image/png": "[encoded data removed]",
      "text/plain": [
       "<Figure size 432x288 with 1 Axes>"
      ]
     },
     "metadata": {
      "needs_background": "light"
     },
     "output_type": "display_data"
    }
   ],
   "source": [
    "import matplotlib.pyplot as plt\n",
    "%matplotlib inline\n",
    "\n",
    "plt.plot(h2_length, hf_energy_list, color='black', label='HF')\n",
    "plt.plot(h2_length, uccsd_energy_list, color='red', label='UCCSD')\n",
    "plt.title(\"Potential Energy Curve of hydrogen Molecule\")\n",
    "plt.xlabel(\"H-H band length\")\n",
    "plt.ylabel(\"Energy Hartree\")\n",
    "plt.legend()"
   ]
  }
 ],
 "metadata": {
  "kernelspec": {
   "display_name": "Python 3 (ipykernel)",
   "language": "python",
   "name": "python3"
  },
  "language_info": {
   "codemirror_mode": {
    "name": "ipython",
    "version": 3
   },
   "file_extension": ".py",
   "mimetype": "text/x-python",
   "name": "python",
   "nbconvert_exporter": "python",
   "pygments_lexer": "ipython3",
   "version": "3.8.13"
  },
  "widgets": {
   "application/vnd.jupyter.widget-state+json": {
    "state": {
     "0875496b0234459cbccbbaffb1c0863d": {
      "model_module": "@jupyter-widgets/controls",
      "model_module_version": "1.5.0",
      "model_name": "HTMLModel",
      "state": {
       "layout": "IPY_MODEL_f8f8f96bcba848a5ad75036e034f94de",
       "style": "IPY_MODEL_7dbb77505a0c4671af10712a28f02a7b",
       "value": "<h5>Queue</h5>"
      }
     },
     "0c26b1be664d409b97e516ee6a3b6924": {
      "model_module": "@jupyter-widgets/base",
      "model_module_version": "1.2.0",
      "model_name": "LayoutModel",
      "state": {}
     },
     "152faae0146d44669247e05f8fcef9bf": {
      "model_module": "@jupyter-widgets/base",
      "model_module_version": "1.2.0",
      "model_name": "LayoutModel",
      "state": {
       "grid_template_areas": "\n                                       \". . . . right \"\n                                        ",
       "grid_template_columns": "20% 20% 20% 20% 20%",
       "width": "100%"
      }
     },
     "167b51c8e95348c0968820a76e6a61a1": {
      "model_module": "@jupyter-widgets/controls",
      "model_module_version": "1.5.0",
      "model_name": "HTMLModel",
      "state": {
       "layout": "IPY_MODEL_d016055b8080430585b3f78f30a39f52",
       "style": "IPY_MODEL_de2e5dbe70d8473da60823e36645a055",
       "value": "<h5>Queue</h5>"
      }
     },
     "17ab74a3825c4a338486dc32567c6a5c": {
      "model_module": "@jupyter-widgets/base",
      "model_module_version": "1.2.0",
      "model_name": "LayoutModel",
      "state": {
       "width": "95px"
      }
     },
     "213c0eb64c5f4fa883044a02b2167b53": {
      "model_module": "@jupyter-widgets/controls",
      "model_module_version": "1.5.0",
      "model_name": "HTMLModel",
      "state": {
       "layout": "IPY_MODEL_bc18eca6a4f4456982ad97835666c2d5",
       "style": "IPY_MODEL_61c1974345844117bb73088a989e94a7",
       "value": "<h5>Message</h5>"
      }
     },
     "22999d5e0e414541949114477f95c7b4": {
      "model_module": "@jupyter-widgets/controls",
      "model_module_version": "1.5.0",
      "model_name": "HBoxModel",
      "state": {
       "children": [
        "IPY_MODEL_9da97be6a7e84665af46272d4cdf4469",
        "IPY_MODEL_d4bd1f9a35c546d5827f6cda0fb5d2c7",
        "IPY_MODEL_98b452a210b94045bbf9d7b2862aaa77",
        "IPY_MODEL_167b51c8e95348c0968820a76e6a61a1",
        "IPY_MODEL_213c0eb64c5f4fa883044a02b2167b53"
       ],
       "layout": "IPY_MODEL_7665d83ddde44f9a8d811a1129a78233"
      }
     },
     "23cf55ea84ea4fd0856c6b2d711c614c": {
      "model_module": "@jupyter-widgets/controls",
      "model_module_version": "1.5.0",
      "model_name": "ButtonStyleModel",
      "state": {}
     },
     "2bd3d9b7562e45aa9ec8c10260c8c6b7": {
      "model_module": "@jupyter-widgets/controls",
      "model_module_version": "1.5.0",
      "model_name": "HBoxModel",
      "state": {
       "children": [
        "IPY_MODEL_8ba484d14fdb460986d4a4ee4756afce",
        "IPY_MODEL_f01495a105944c1eb904784830959e60",
        "IPY_MODEL_b59ab071426543fca892195852bbc74a",
        "IPY_MODEL_0875496b0234459cbccbbaffb1c0863d",
        "IPY_MODEL_cc7bf028676c40b194c289d3de5e6381"
       ],
       "layout": "IPY_MODEL_affd81f9138d4ef483f8e4162f5f591d"
      }
     },
     "47c4c22b06cf494fa0232c0b620285e9": {
      "model_module": "@jupyter-widgets/controls",
      "model_module_version": "1.5.0",
      "model_name": "ButtonModel",
      "state": {
       "button_style": "primary",
       "description": "Clear",
       "layout": "IPY_MODEL_4eb8839a7ddc4bc3b029818a31ce638c",
       "style": "IPY_MODEL_23cf55ea84ea4fd0856c6b2d711c614c"
      }
     },
     "4b1b3588f7f74eb8962835665cdfdfe0": {
      "model_module": "@jupyter-widgets/controls",
      "model_module_version": "1.5.0",
      "model_name": "GridBoxModel",
      "state": {
       "children": [
        "IPY_MODEL_47c4c22b06cf494fa0232c0b620285e9"
       ],
       "layout": "IPY_MODEL_a242b76cd6ca489aa514fd19a10e01a4"
      }
     },
     "4eb8839a7ddc4bc3b029818a31ce638c": {
      "model_module": "@jupyter-widgets/base",
      "model_module_version": "1.2.0",
      "model_name": "LayoutModel",
      "state": {
       "grid_area": "right",
       "padding": "0px 0px 0px 0px",
       "width": "70px"
      }
     },
     "5085f3766b994581a9c822bba8dcb9cd": {
      "model_module": "@jupyter-widgets/controls",
      "model_module_version": "1.5.0",
      "model_name": "DescriptionStyleModel",
      "state": {
       "description_width": ""
      }
     },
     "56e3654dd8bf465491f4bd46ad3a8688": {
      "model_module": "@jupyter-widgets/controls",
      "model_module_version": "1.5.0",
      "model_name": "ButtonModel",
      "state": {
       "button_style": "primary",
       "description": "Clear",
       "layout": "IPY_MODEL_b6c54d80dfb64a7aa8eb07c6ea42b3cc",
       "style": "IPY_MODEL_901a542f9f434ee2abcde11249062dc9"
      }
     },
     "5aeb39e11c6c4dcc8d0e155f401d1d94": {
      "model_module": "@jupyter-widgets/controls",
      "model_module_version": "1.5.0",
      "model_name": "DescriptionStyleModel",
      "state": {
       "description_width": ""
      }
     },
     "61c1974345844117bb73088a989e94a7": {
      "model_module": "@jupyter-widgets/controls",
      "model_module_version": "1.5.0",
      "model_name": "DescriptionStyleModel",
      "state": {
       "description_width": ""
      }
     },
     "6eeb9511b9574007899b948fbde99212": {
      "model_module": "@jupyter-widgets/controls",
      "model_module_version": "1.5.0",
      "model_name": "DescriptionStyleModel",
      "state": {
       "description_width": ""
      }
     },
     "701b5f75174541a384ab5ea0e88a9208": {
      "model_module": "@jupyter-widgets/controls",
      "model_module_version": "1.5.0",
      "model_name": "DescriptionStyleModel",
      "state": {
       "description_width": ""
      }
     },
     "7665d83ddde44f9a8d811a1129a78233": {
      "model_module": "@jupyter-widgets/base",
      "model_module_version": "1.2.0",
      "model_name": "LayoutModel",
      "state": {
       "margin": "0px 0px 0px 37px",
       "width": "600px"
      }
     },
     "794a079e27ea41c9a6c02dc68b73cf62": {
      "model_module": "@jupyter-widgets/base",
      "model_module_version": "1.2.0",
      "model_name": "LayoutModel",
      "state": {
       "width": "190px"
      }
     },
     "7dbb77505a0c4671af10712a28f02a7b": {
      "model_module": "@jupyter-widgets/controls",
      "model_module_version": "1.5.0",
      "model_name": "DescriptionStyleModel",
      "state": {
       "description_width": ""
      }
     },
     "8ba484d14fdb460986d4a4ee4756afce": {
      "model_module": "@jupyter-widgets/controls",
      "model_module_version": "1.5.0",
      "model_name": "HTMLModel",
      "state": {
       "layout": "IPY_MODEL_ef9eb999296d4295a0adf39f81f2a7ce",
       "style": "IPY_MODEL_cf0fbbbbe80a45f384078b89abf54127",
       "value": "<h5>Job ID</h5>"
      }
     },
     "901a542f9f434ee2abcde11249062dc9": {
      "model_module": "@jupyter-widgets/controls",
      "model_module_version": "1.5.0",
      "model_name": "ButtonStyleModel",
      "state": {}
     },
     "91aa29b88c1e446ab51051ebf78110f0": {
      "model_module": "@jupyter-widgets/controls",
      "model_module_version": "1.5.0",
      "model_name": "HTMLModel",
      "state": {
       "layout": "IPY_MODEL_cdbd3cfa23234a76a308ffc24117dfa6",
       "style": "IPY_MODEL_c6b176a37ce443f693a0b9703ed995c7",
       "value": "<p style='font-family: IBM Plex Sans, Arial, Helvetica, sans-serif; font-size: 20px; font-weight: medium;'>Circuit Properties</p>"
      }
     },
     "98b452a210b94045bbf9d7b2862aaa77": {
      "model_module": "@jupyter-widgets/controls",
      "model_module_version": "1.5.0",
      "model_name": "HTMLModel",
      "state": {
       "layout": "IPY_MODEL_eb67f1650b964f4bb9c2eea617fc0f64",
       "style": "IPY_MODEL_5085f3766b994581a9c822bba8dcb9cd",
       "value": "<h5>Status</h5>"
      }
     },
     "9ac9aee2709c4b199292d8c6adce01bb": {
      "model_module": "@jupyter-widgets/base",
      "model_module_version": "1.2.0",
      "model_name": "LayoutModel",
      "state": {
       "margin": "0px 0px 10px 0px"
      }
     },
     "9da97be6a7e84665af46272d4cdf4469": {
      "model_module": "@jupyter-widgets/controls",
      "model_module_version": "1.5.0",
      "model_name": "HTMLModel",
      "state": {
       "layout": "IPY_MODEL_794a079e27ea41c9a6c02dc68b73cf62",
       "style": "IPY_MODEL_701b5f75174541a384ab5ea0e88a9208",
       "value": "<h5>Job ID</h5>"
      }
     },
     "a242b76cd6ca489aa514fd19a10e01a4": {
      "model_module": "@jupyter-widgets/base",
      "model_module_version": "1.2.0",
      "model_name": "LayoutModel",
      "state": {
       "grid_template_areas": "\n                                       \". . . . right \"\n                                        ",
       "grid_template_columns": "20% 20% 20% 20% 20%",
       "width": "100%"
      }
     },
     "a94ef10d248a40c589f74f0c46f3d2a6": {
      "model_module": "@jupyter-widgets/controls",
      "model_module_version": "1.5.0",
      "model_name": "GridBoxModel",
      "state": {
       "children": [
        "IPY_MODEL_56e3654dd8bf465491f4bd46ad3a8688"
       ],
       "layout": "IPY_MODEL_152faae0146d44669247e05f8fcef9bf"
      }
     },
     "affd81f9138d4ef483f8e4162f5f591d": {
      "model_module": "@jupyter-widgets/base",
      "model_module_version": "1.2.0",
      "model_name": "LayoutModel",
      "state": {
       "margin": "0px 0px 0px 37px",
       "width": "600px"
      }
     },
     "b59ab071426543fca892195852bbc74a": {
      "model_module": "@jupyter-widgets/controls",
      "model_module_version": "1.5.0",
      "model_name": "HTMLModel",
      "state": {
       "layout": "IPY_MODEL_17ab74a3825c4a338486dc32567c6a5c",
       "style": "IPY_MODEL_6eeb9511b9574007899b948fbde99212",
       "value": "<h5>Status</h5>"
      }
     },
     "b6c54d80dfb64a7aa8eb07c6ea42b3cc": {
      "model_module": "@jupyter-widgets/base",
      "model_module_version": "1.2.0",
      "model_name": "LayoutModel",
      "state": {
       "grid_area": "right",
       "padding": "0px 0px 0px 0px",
       "width": "70px"
      }
     },
     "bc18eca6a4f4456982ad97835666c2d5": {
      "model_module": "@jupyter-widgets/base",
      "model_module_version": "1.2.0",
      "model_name": "LayoutModel",
      "state": {}
     },
     "bf942dde5f8248fe9b5298c4eaba3203": {
      "model_module": "@jupyter-widgets/base",
      "model_module_version": "1.2.0",
      "model_name": "LayoutModel",
      "state": {
       "width": "145px"
      }
     },
     "c6b176a37ce443f693a0b9703ed995c7": {
      "model_module": "@jupyter-widgets/controls",
      "model_module_version": "1.5.0",
      "model_name": "DescriptionStyleModel",
      "state": {
       "description_width": ""
      }
     },
     "c7a6c36ef6d94318a8e91a28cd25700b": {
      "model_module": "@jupyter-widgets/base",
      "model_module_version": "1.2.0",
      "model_name": "LayoutModel",
      "state": {
       "width": "145px"
      }
     },
     "cc7bf028676c40b194c289d3de5e6381": {
      "model_module": "@jupyter-widgets/controls",
      "model_module_version": "1.5.0",
      "model_name": "HTMLModel",
      "state": {
       "layout": "IPY_MODEL_0c26b1be664d409b97e516ee6a3b6924",
       "style": "IPY_MODEL_f96f59329183492a8e0fa12f659828ca",
       "value": "<h5>Message</h5>"
      }
     },
     "cdbd3cfa23234a76a308ffc24117dfa6": {
      "model_module": "@jupyter-widgets/base",
      "model_module_version": "1.2.0",
      "model_name": "LayoutModel",
      "state": {
       "margin": "0px 0px 10px 0px"
      }
     },
     "cf0fbbbbe80a45f384078b89abf54127": {
      "model_module": "@jupyter-widgets/controls",
      "model_module_version": "1.5.0",
      "model_name": "DescriptionStyleModel",
      "state": {
       "description_width": ""
      }
     },
     "d016055b8080430585b3f78f30a39f52": {
      "model_module": "@jupyter-widgets/base",
      "model_module_version": "1.2.0",
      "model_name": "LayoutModel",
      "state": {
       "width": "70px"
      }
     },
     "d47848c36d1e4edf929aa6824b77918a": {
      "model_module": "@jupyter-widgets/controls",
      "model_module_version": "1.5.0",
      "model_name": "HTMLModel",
      "state": {
       "layout": "IPY_MODEL_9ac9aee2709c4b199292d8c6adce01bb",
       "style": "IPY_MODEL_fc89929bb35b43e4b20547ffc1c47972",
       "value": "<p style='font-family: IBM Plex Sans, Arial, Helvetica, sans-serif; font-size: 20px; font-weight: medium;'>Circuit Properties</p>"
      }
     },
     "d4bd1f9a35c546d5827f6cda0fb5d2c7": {
      "model_module": "@jupyter-widgets/controls",
      "model_module_version": "1.5.0",
      "model_name": "HTMLModel",
      "state": {
       "layout": "IPY_MODEL_bf942dde5f8248fe9b5298c4eaba3203",
       "style": "IPY_MODEL_ec4a5f8d75e542448097fb1a8b52c683",
       "value": "<h5>Backend</h5>"
      }
     },
     "de2e5dbe70d8473da60823e36645a055": {
      "model_module": "@jupyter-widgets/controls",
      "model_module_version": "1.5.0",
      "model_name": "DescriptionStyleModel",
      "state": {
       "description_width": ""
      }
     },
     "eb67f1650b964f4bb9c2eea617fc0f64": {
      "model_module": "@jupyter-widgets/base",
      "model_module_version": "1.2.0",
      "model_name": "LayoutModel",
      "state": {
       "width": "95px"
      }
     },
     "ec4a5f8d75e542448097fb1a8b52c683": {
      "model_module": "@jupyter-widgets/controls",
      "model_module_version": "1.5.0",
      "model_name": "DescriptionStyleModel",
      "state": {
       "description_width": ""
      }
     },
     "ef9eb999296d4295a0adf39f81f2a7ce": {
      "model_module": "@jupyter-widgets/base",
      "model_module_version": "1.2.0",
      "model_name": "LayoutModel",
      "state": {
       "width": "190px"
      }
     },
     "f01495a105944c1eb904784830959e60": {
      "model_module": "@jupyter-widgets/controls",
      "model_module_version": "1.5.0",
      "model_name": "HTMLModel",
      "state": {
       "layout": "IPY_MODEL_c7a6c36ef6d94318a8e91a28cd25700b",
       "style": "IPY_MODEL_5aeb39e11c6c4dcc8d0e155f401d1d94",
       "value": "<h5>Backend</h5>"
      }
     },
     "f8f8f96bcba848a5ad75036e034f94de": {
      "model_module": "@jupyter-widgets/base",
      "model_module_version": "1.2.0",
      "model_name": "LayoutModel",
      "state": {
       "width": "70px"
      }
     },
     "f96f59329183492a8e0fa12f659828ca": {
      "model_module": "@jupyter-widgets/controls",
      "model_module_version": "1.5.0",
      "model_name": "DescriptionStyleModel",
      "state": {
       "description_width": ""
      }
     },
     "fc89929bb35b43e4b20547ffc1c47972": {
      "model_module": "@jupyter-widgets/controls",
      "model_module_version": "1.5.0",
      "model_name": "DescriptionStyleModel",
      "state": {
       "description_width": ""
      }
     }
    },
    "version_major": 2,
    "version_minor": 0
   }
  }
 },
 "nbformat": 4,
 "nbformat_minor": 5
}
